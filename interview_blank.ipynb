{
 "metadata": {
  "language_info": {
   "codemirror_mode": {
    "name": "ipython",
    "version": 3
   },
   "file_extension": ".py",
   "mimetype": "text/x-python",
   "name": "python",
   "nbconvert_exporter": "python",
   "pygments_lexer": "ipython3",
   "version": "3.8.8"
  },
  "orig_nbformat": 4,
  "kernelspec": {
   "name": "python3",
   "display_name": "Python 3.8.8 64-bit ('def': conda)"
  },
  "interpreter": {
   "hash": "536a5c9a911e9b0160eca316d2ea7fb8efcd0dce50d43ef330facf73ae0c7e7a"
  }
 },
 "nbformat": 4,
 "nbformat_minor": 2,
 "cells": [
  {
   "source": [
    "# Welcome\n",
    "Welcome to the Alaffia data science interview. This interview is designed to test your ability to write performant code for data processing. You have `___` minutes to complete this task."
   ],
   "cell_type": "markdown",
   "metadata": {}
  },
  {
   "source": [
    "## Question 1\n",
    "`strings.txt` contains strings of characters separated by `\"\\n\"`. Each line contains the same number of characters. `select.csv` contains equal length lists of integers, also separated by `\"\\n\"`. `strings.txt` contains no more that 256 unique characters.\n",
    "\n",
    "Compose a numpy array where, for each row index `i`, the value at each column index `j` corresponds to `strings[i][select[i][j]]`\n",
    "\n",
    "For example, \n",
    "```\n",
    "strings = ['abcdef', 'ghijkl']\n",
    "select = [\n",
    "    [0, 2, 4], \n",
    "    [1, 3, 5]\n",
    "]\n",
    "\n",
    "output == [\n",
    "    ['a', 'c', 'e'],\n",
    "    ['b', 'd', 'f']\n",
    "]\n",
    "\n",
    "\n",
    "```"
   ],
   "cell_type": "markdown",
   "metadata": {}
  },
  {
   "cell_type": "code",
   "execution_count": null,
   "metadata": {},
   "outputs": [],
   "source": [
    "# Boilerplate\n",
    "\n",
    "import numpy as np\n",
    "import time\n",
    "\n",
    "with open('strings.txt', 'r') as f:\n",
    "    strings = f.read().split('\\n')\n",
    "\n",
    "with open('select.csv', 'r') as g:\n",
    "    select = np.genfromtxt('select.csv', delimiter=',')\n",
    "\n",
    "start = time.perf_counter()\n",
    "\n",
    "#######################\n",
    "# Your code goes here #\n",
    "#######################\n",
    "\n",
    "answer1 = None\n",
    "\n",
    "####################\n",
    "# End of your code #\n",
    "####################\n",
    "\n",
    "print(time.perf_counter() - start)\n",
    "print(answer1)"
   ]
  },
  {
   "source": [
    "## Question 2\n",
    "Compose a 2D numpy array `answer2` such that for each row index `i` and each column index `j`, `answer2[i][j] == intify(answer1[i][j])`.\n",
    "\n",
    "For example,\n",
    "```\n",
    "answer1 = [\n",
    "    ['a', 'c', 'e'],\n",
    "    ['b', 'd', 'f']\n",
    "]\n",
    "\n",
    "answer2 = [\n",
    "    [intify('a'), intify('c'), intify('e')],\n",
    "    [intify('b'), intify('d'), intify('f')]\n",
    "]\n",
    "\n",
    "# Equivalently,\n",
    "\n",
    "answer2 = [\n",
    "    [-903, -901, -899],\n",
    "    [-902, -900, -898]\n",
    "]\n",
    "```"
   ],
   "cell_type": "markdown",
   "metadata": {}
  },
  {
   "cell_type": "code",
   "execution_count": null,
   "metadata": {},
   "outputs": [],
   "source": [
    "def intify(c):\n",
    "    '''\n",
    "    Converts strings of lenth 1 to integers, but slowly.\n",
    "    Do not edit this function in your final submission.\n",
    "    '''\n",
    "    time.sleep(0.001)\n",
    "    return ord(c) - 1000\n",
    "\n",
    "answer2 = None\n",
    "start = time.perf_counter()\n",
    "\n",
    "#######################\n",
    "# Your code goes here #\n",
    "#######################\n",
    "\n",
    "answer2 = None\n",
    "\n",
    "####################\n",
    "# End of your code #\n",
    "####################\n",
    "\n",
    "print(time.perf_counter() - start)\n",
    "print(answer2)"
   ]
  }
 ]
}